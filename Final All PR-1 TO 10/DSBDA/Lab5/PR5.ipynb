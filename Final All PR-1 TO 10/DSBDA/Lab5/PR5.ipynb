{
 "cells": [
  {
   "cell_type": "code",
   "execution_count": 1,
   "metadata": {},
   "outputs": [],
   "source": [
    "import numpy as np\n",
    "import matplotlib.pyplot as plt\n",
    "import pandas as pd\n",
    "import seaborn as sns"
   ]
  },
  {
   "cell_type": "code",
   "execution_count": 3,
   "metadata": {},
   "outputs": [
    {
     "data": {
      "text/html": [
       "<div>\n",
       "<style scoped>\n",
       "    .dataframe tbody tr th:only-of-type {\n",
       "        vertical-align: middle;\n",
       "    }\n",
       "\n",
       "    .dataframe tbody tr th {\n",
       "        vertical-align: top;\n",
       "    }\n",
       "\n",
       "    .dataframe thead th {\n",
       "        text-align: right;\n",
       "    }\n",
       "</style>\n",
       "<table border=\"1\" class=\"dataframe\">\n",
       "  <thead>\n",
       "    <tr style=\"text-align: right;\">\n",
       "      <th></th>\n",
       "      <th>User ID</th>\n",
       "      <th>Gender</th>\n",
       "      <th>Age</th>\n",
       "      <th>EstimatedSalary</th>\n",
       "      <th>Purchased</th>\n",
       "    </tr>\n",
       "  </thead>\n",
       "  <tbody>\n",
       "    <tr>\n",
       "      <th>0</th>\n",
       "      <td>15624510</td>\n",
       "      <td>Male</td>\n",
       "      <td>19.0</td>\n",
       "      <td>19000.0</td>\n",
       "      <td>0</td>\n",
       "    </tr>\n",
       "    <tr>\n",
       "      <th>1</th>\n",
       "      <td>15810944</td>\n",
       "      <td>Male</td>\n",
       "      <td>35.0</td>\n",
       "      <td>20000.0</td>\n",
       "      <td>0</td>\n",
       "    </tr>\n",
       "    <tr>\n",
       "      <th>2</th>\n",
       "      <td>15668575</td>\n",
       "      <td>Female</td>\n",
       "      <td>26.0</td>\n",
       "      <td>43000.0</td>\n",
       "      <td>0</td>\n",
       "    </tr>\n",
       "    <tr>\n",
       "      <th>3</th>\n",
       "      <td>15603246</td>\n",
       "      <td>Female</td>\n",
       "      <td>27.0</td>\n",
       "      <td>57000.0</td>\n",
       "      <td>0</td>\n",
       "    </tr>\n",
       "    <tr>\n",
       "      <th>4</th>\n",
       "      <td>15804002</td>\n",
       "      <td>Male</td>\n",
       "      <td>19.0</td>\n",
       "      <td>76000.0</td>\n",
       "      <td>0</td>\n",
       "    </tr>\n",
       "    <tr>\n",
       "      <th>...</th>\n",
       "      <td>...</td>\n",
       "      <td>...</td>\n",
       "      <td>...</td>\n",
       "      <td>...</td>\n",
       "      <td>...</td>\n",
       "    </tr>\n",
       "    <tr>\n",
       "      <th>395</th>\n",
       "      <td>15691863</td>\n",
       "      <td>Female</td>\n",
       "      <td>46.0</td>\n",
       "      <td>41000.0</td>\n",
       "      <td>1</td>\n",
       "    </tr>\n",
       "    <tr>\n",
       "      <th>396</th>\n",
       "      <td>15706071</td>\n",
       "      <td>Male</td>\n",
       "      <td>51.0</td>\n",
       "      <td>23000.0</td>\n",
       "      <td>1</td>\n",
       "    </tr>\n",
       "    <tr>\n",
       "      <th>397</th>\n",
       "      <td>15654296</td>\n",
       "      <td>Female</td>\n",
       "      <td>50.0</td>\n",
       "      <td>20000.0</td>\n",
       "      <td>1</td>\n",
       "    </tr>\n",
       "    <tr>\n",
       "      <th>398</th>\n",
       "      <td>15755018</td>\n",
       "      <td>Male</td>\n",
       "      <td>36.0</td>\n",
       "      <td>33000.0</td>\n",
       "      <td>0</td>\n",
       "    </tr>\n",
       "    <tr>\n",
       "      <th>399</th>\n",
       "      <td>15594041</td>\n",
       "      <td>Female</td>\n",
       "      <td>49.0</td>\n",
       "      <td>36000.0</td>\n",
       "      <td>1</td>\n",
       "    </tr>\n",
       "  </tbody>\n",
       "</table>\n",
       "<p>400 rows × 5 columns</p>\n",
       "</div>"
      ],
      "text/plain": [
       "      User ID  Gender   Age  EstimatedSalary  Purchased\n",
       "0    15624510    Male  19.0          19000.0          0\n",
       "1    15810944    Male  35.0          20000.0          0\n",
       "2    15668575  Female  26.0          43000.0          0\n",
       "3    15603246  Female  27.0          57000.0          0\n",
       "4    15804002    Male  19.0          76000.0          0\n",
       "..        ...     ...   ...              ...        ...\n",
       "395  15691863  Female  46.0          41000.0          1\n",
       "396  15706071    Male  51.0          23000.0          1\n",
       "397  15654296  Female  50.0          20000.0          1\n",
       "398  15755018    Male  36.0          33000.0          0\n",
       "399  15594041  Female  49.0          36000.0          1\n",
       "\n",
       "[400 rows x 5 columns]"
      ]
     },
     "execution_count": 3,
     "metadata": {},
     "output_type": "execute_result"
    }
   ],
   "source": [
    "df = pd.read_csv('Social_Network_Ads .csv')\n",
    "df"
   ]
  },
  {
   "cell_type": "code",
   "execution_count": 4,
   "metadata": {},
   "outputs": [
    {
     "name": "stdout",
     "output_type": "stream",
     "text": [
      "<class 'pandas.core.frame.DataFrame'>\n",
      "RangeIndex: 400 entries, 0 to 399\n",
      "Data columns (total 5 columns):\n",
      " #   Column           Non-Null Count  Dtype  \n",
      "---  ------           --------------  -----  \n",
      " 0   User ID          400 non-null    int64  \n",
      " 1   Gender           400 non-null    object \n",
      " 2   Age              400 non-null    float64\n",
      " 3   EstimatedSalary  400 non-null    float64\n",
      " 4   Purchased        400 non-null    int64  \n",
      "dtypes: float64(2), int64(2), object(1)\n",
      "memory usage: 15.8+ KB\n",
      "None\n"
     ]
    }
   ],
   "source": [
    "print(df.info())"
   ]
  },
  {
   "cell_type": "code",
   "execution_count": 5,
   "metadata": {},
   "outputs": [
    {
     "name": "stdout",
     "output_type": "stream",
     "text": [
      "            User ID         Age  EstimatedSalary   Purchased\n",
      "count  4.000000e+02  400.000000       400.000000  400.000000\n",
      "mean   1.569154e+07   37.655000     69742.500000    0.357500\n",
      "std    7.165832e+04   10.482877     34096.960282    0.479864\n",
      "min    1.556669e+07   18.000000     15000.000000    0.000000\n",
      "25%    1.562676e+07   29.750000     43000.000000    0.000000\n",
      "50%    1.569434e+07   37.000000     70000.000000    0.000000\n",
      "75%    1.575036e+07   46.000000     88000.000000    1.000000\n",
      "max    1.581524e+07   60.000000    150000.000000    1.000000\n"
     ]
    }
   ],
   "source": [
    "print(df.describe())\n"
   ]
  },
  {
   "cell_type": "code",
   "execution_count": 6,
   "metadata": {},
   "outputs": [
    {
     "name": "stdout",
     "output_type": "stream",
     "text": [
      "    User ID  Gender   Age  EstimatedSalary  Purchased\n",
      "0  15624510    Male  19.0          19000.0          0\n",
      "1  15810944    Male  35.0          20000.0          0\n",
      "2  15668575  Female  26.0          43000.0          0\n",
      "3  15603246  Female  27.0          57000.0          0\n",
      "4  15804002    Male  19.0          76000.0          0\n"
     ]
    }
   ],
   "source": [
    "print(df.head())\n"
   ]
  },
  {
   "cell_type": "code",
   "execution_count": 7,
   "metadata": {},
   "outputs": [],
   "source": [
    "x = df[['Age', 'EstimatedSalary']]\n",
    "y = df['Purchased']"
   ]
  },
  {
   "cell_type": "code",
   "execution_count": 8,
   "metadata": {},
   "outputs": [],
   "source": [
    "from sklearn.model_selection import train_test_split"
   ]
  },
  {
   "cell_type": "code",
   "execution_count": 9,
   "metadata": {},
   "outputs": [],
   "source": [
    "train_x,test_x,train_y,test_y=train_test_split(x,y,random_state =56) \n"
   ]
  },
  {
   "cell_type": "code",
   "execution_count": 10,
   "metadata": {},
   "outputs": [
    {
     "data": {
      "text/html": [
       "<div>\n",
       "<style scoped>\n",
       "    .dataframe tbody tr th:only-of-type {\n",
       "        vertical-align: middle;\n",
       "    }\n",
       "\n",
       "    .dataframe tbody tr th {\n",
       "        vertical-align: top;\n",
       "    }\n",
       "\n",
       "    .dataframe thead th {\n",
       "        text-align: right;\n",
       "    }\n",
       "</style>\n",
       "<table border=\"1\" class=\"dataframe\">\n",
       "  <thead>\n",
       "    <tr style=\"text-align: right;\">\n",
       "      <th></th>\n",
       "      <th>Age</th>\n",
       "      <th>EstimatedSalary</th>\n",
       "    </tr>\n",
       "  </thead>\n",
       "  <tbody>\n",
       "    <tr>\n",
       "      <th>167</th>\n",
       "      <td>35.0</td>\n",
       "      <td>71000.0</td>\n",
       "    </tr>\n",
       "    <tr>\n",
       "      <th>109</th>\n",
       "      <td>38.0</td>\n",
       "      <td>80000.0</td>\n",
       "    </tr>\n",
       "    <tr>\n",
       "      <th>286</th>\n",
       "      <td>37.0</td>\n",
       "      <td>62000.0</td>\n",
       "    </tr>\n",
       "    <tr>\n",
       "      <th>389</th>\n",
       "      <td>48.0</td>\n",
       "      <td>35000.0</td>\n",
       "    </tr>\n",
       "    <tr>\n",
       "      <th>134</th>\n",
       "      <td>28.0</td>\n",
       "      <td>55000.0</td>\n",
       "    </tr>\n",
       "    <tr>\n",
       "      <th>...</th>\n",
       "      <td>...</td>\n",
       "      <td>...</td>\n",
       "    </tr>\n",
       "    <tr>\n",
       "      <th>142</th>\n",
       "      <td>35.0</td>\n",
       "      <td>59000.0</td>\n",
       "    </tr>\n",
       "    <tr>\n",
       "      <th>122</th>\n",
       "      <td>40.0</td>\n",
       "      <td>75000.0</td>\n",
       "    </tr>\n",
       "    <tr>\n",
       "      <th>235</th>\n",
       "      <td>46.0</td>\n",
       "      <td>79000.0</td>\n",
       "    </tr>\n",
       "    <tr>\n",
       "      <th>192</th>\n",
       "      <td>29.0</td>\n",
       "      <td>43000.0</td>\n",
       "    </tr>\n",
       "    <tr>\n",
       "      <th>341</th>\n",
       "      <td>35.0</td>\n",
       "      <td>75000.0</td>\n",
       "    </tr>\n",
       "  </tbody>\n",
       "</table>\n",
       "<p>300 rows × 2 columns</p>\n",
       "</div>"
      ],
      "text/plain": [
       "      Age  EstimatedSalary\n",
       "167  35.0          71000.0\n",
       "109  38.0          80000.0\n",
       "286  37.0          62000.0\n",
       "389  48.0          35000.0\n",
       "134  28.0          55000.0\n",
       "..    ...              ...\n",
       "142  35.0          59000.0\n",
       "122  40.0          75000.0\n",
       "235  46.0          79000.0\n",
       "192  29.0          43000.0\n",
       "341  35.0          75000.0\n",
       "\n",
       "[300 rows x 2 columns]"
      ]
     },
     "execution_count": 10,
     "metadata": {},
     "output_type": "execute_result"
    }
   ],
   "source": [
    "train_x"
   ]
  },
  {
   "cell_type": "code",
   "execution_count": 11,
   "metadata": {},
   "outputs": [],
   "source": [
    "from sklearn.preprocessing import MinMaxScaler\n"
   ]
  },
  {
   "cell_type": "code",
   "execution_count": 13,
   "metadata": {},
   "outputs": [
    {
     "data": {
      "text/html": [
       "<style>#sk-container-id-1 {color: black;background-color: white;}#sk-container-id-1 pre{padding: 0;}#sk-container-id-1 div.sk-toggleable {background-color: white;}#sk-container-id-1 label.sk-toggleable__label {cursor: pointer;display: block;width: 100%;margin-bottom: 0;padding: 0.3em;box-sizing: border-box;text-align: center;}#sk-container-id-1 label.sk-toggleable__label-arrow:before {content: \"▸\";float: left;margin-right: 0.25em;color: #696969;}#sk-container-id-1 label.sk-toggleable__label-arrow:hover:before {color: black;}#sk-container-id-1 div.sk-estimator:hover label.sk-toggleable__label-arrow:before {color: black;}#sk-container-id-1 div.sk-toggleable__content {max-height: 0;max-width: 0;overflow: hidden;text-align: left;background-color: #f0f8ff;}#sk-container-id-1 div.sk-toggleable__content pre {margin: 0.2em;color: black;border-radius: 0.25em;background-color: #f0f8ff;}#sk-container-id-1 input.sk-toggleable__control:checked~div.sk-toggleable__content {max-height: 200px;max-width: 100%;overflow: auto;}#sk-container-id-1 input.sk-toggleable__control:checked~label.sk-toggleable__label-arrow:before {content: \"▾\";}#sk-container-id-1 div.sk-estimator input.sk-toggleable__control:checked~label.sk-toggleable__label {background-color: #d4ebff;}#sk-container-id-1 div.sk-label input.sk-toggleable__control:checked~label.sk-toggleable__label {background-color: #d4ebff;}#sk-container-id-1 input.sk-hidden--visually {border: 0;clip: rect(1px 1px 1px 1px);clip: rect(1px, 1px, 1px, 1px);height: 1px;margin: -1px;overflow: hidden;padding: 0;position: absolute;width: 1px;}#sk-container-id-1 div.sk-estimator {font-family: monospace;background-color: #f0f8ff;border: 1px dotted black;border-radius: 0.25em;box-sizing: border-box;margin-bottom: 0.5em;}#sk-container-id-1 div.sk-estimator:hover {background-color: #d4ebff;}#sk-container-id-1 div.sk-parallel-item::after {content: \"\";width: 100%;border-bottom: 1px solid gray;flex-grow: 1;}#sk-container-id-1 div.sk-label:hover label.sk-toggleable__label {background-color: #d4ebff;}#sk-container-id-1 div.sk-serial::before {content: \"\";position: absolute;border-left: 1px solid gray;box-sizing: border-box;top: 0;bottom: 0;left: 50%;z-index: 0;}#sk-container-id-1 div.sk-serial {display: flex;flex-direction: column;align-items: center;background-color: white;padding-right: 0.2em;padding-left: 0.2em;position: relative;}#sk-container-id-1 div.sk-item {position: relative;z-index: 1;}#sk-container-id-1 div.sk-parallel {display: flex;align-items: stretch;justify-content: center;background-color: white;position: relative;}#sk-container-id-1 div.sk-item::before, #sk-container-id-1 div.sk-parallel-item::before {content: \"\";position: absolute;border-left: 1px solid gray;box-sizing: border-box;top: 0;bottom: 0;left: 50%;z-index: -1;}#sk-container-id-1 div.sk-parallel-item {display: flex;flex-direction: column;z-index: 1;position: relative;background-color: white;}#sk-container-id-1 div.sk-parallel-item:first-child::after {align-self: flex-end;width: 50%;}#sk-container-id-1 div.sk-parallel-item:last-child::after {align-self: flex-start;width: 50%;}#sk-container-id-1 div.sk-parallel-item:only-child::after {width: 0;}#sk-container-id-1 div.sk-dashed-wrapped {border: 1px dashed gray;margin: 0 0.4em 0.5em 0.4em;box-sizing: border-box;padding-bottom: 0.4em;background-color: white;}#sk-container-id-1 div.sk-label label {font-family: monospace;font-weight: bold;display: inline-block;line-height: 1.2em;}#sk-container-id-1 div.sk-label-container {text-align: center;}#sk-container-id-1 div.sk-container {/* jupyter's `normalize.less` sets `[hidden] { display: none; }` but bootstrap.min.css set `[hidden] { display: none !important; }` so we also need the `!important` here to be able to override the default hidden behavior on the sphinx rendered scikit-learn.org. See: https://github.com/scikit-learn/scikit-learn/issues/21755 */display: inline-block !important;position: relative;}#sk-container-id-1 div.sk-text-repr-fallback {display: none;}</style><div id=\"sk-container-id-1\" class=\"sk-top-container\"><div class=\"sk-text-repr-fallback\"><pre>MinMaxScaler()</pre><b>In a Jupyter environment, please rerun this cell to show the HTML representation or trust the notebook. <br />On GitHub, the HTML representation is unable to render, please try loading this page with nbviewer.org.</b></div><div class=\"sk-container\" hidden><div class=\"sk-item\"><div class=\"sk-estimator sk-toggleable\"><input class=\"sk-toggleable__control sk-hidden--visually\" id=\"sk-estimator-id-1\" type=\"checkbox\" checked><label for=\"sk-estimator-id-1\" class=\"sk-toggleable__label sk-toggleable__label-arrow\">MinMaxScaler</label><div class=\"sk-toggleable__content\"><pre>MinMaxScaler()</pre></div></div></div></div></div>"
      ],
      "text/plain": [
       "MinMaxScaler()"
      ]
     },
     "execution_count": 13,
     "metadata": {},
     "output_type": "execute_result"
    }
   ],
   "source": [
    "scaler= MinMaxScaler()\n",
    "scaler"
   ]
  },
  {
   "cell_type": "code",
   "execution_count": 14,
   "metadata": {},
   "outputs": [
    {
     "data": {
      "text/plain": [
       "Index(['Age', 'EstimatedSalary'], dtype='object')"
      ]
     },
     "execution_count": 14,
     "metadata": {},
     "output_type": "execute_result"
    }
   ],
   "source": [
    "cols=train_x.columns\n",
    "cols"
   ]
  },
  {
   "cell_type": "code",
   "execution_count": 15,
   "metadata": {},
   "outputs": [
    {
     "data": {
      "text/plain": [
       "array([[0.4047619 , 0.41481481],\n",
       "       [0.47619048, 0.48148148],\n",
       "       [0.45238095, 0.34814815],\n",
       "       [0.71428571, 0.14814815],\n",
       "       [0.23809524, 0.2962963 ],\n",
       "       [0.47619048, 0.25925926],\n",
       "       [0.23809524, 0.8       ],\n",
       "       [0.5       , 0.42962963],\n",
       "       [0.5       , 0.67407407],\n",
       "       [0.33333333, 1.        ],\n",
       "       [0.52380952, 0.31111111],\n",
       "       [0.64285714, 0.05185185],\n",
       "       [0.5       , 0.88148148],\n",
       "       [0.52380952, 0.42222222],\n",
       "       [0.42857143, 0.82222222],\n",
       "       [0.19047619, 0.48148148],\n",
       "       [0.19047619, 0.76296296],\n",
       "       [0.23809524, 0.16296296],\n",
       "       [0.45238095, 0.44444444],\n",
       "       [0.66666667, 0.05925926],\n",
       "       [0.73809524, 0.93333333],\n",
       "       [0.66666667, 0.0962963 ],\n",
       "       [0.21428571, 0.01481481],\n",
       "       [0.21428571, 0.31851852],\n",
       "       [0.23809524, 0.12592593],\n",
       "       [0.69047619, 0.72592593],\n",
       "       [0.42857143, 0.76296296],\n",
       "       [0.54761905, 0.33333333],\n",
       "       [0.66666667, 0.05185185],\n",
       "       [0.4047619 , 0.2962963 ],\n",
       "       [0.5       , 0.2       ],\n",
       "       [0.54761905, 0.32592593],\n",
       "       [0.45238095, 0.48148148],\n",
       "       [0.02380952, 0.02962963],\n",
       "       [0.85714286, 0.68888889],\n",
       "       [0.71428571, 0.13333333],\n",
       "       [0.        , 0.27407407],\n",
       "       [0.35714286, 0.19259259],\n",
       "       [0.4047619 , 0.68888889],\n",
       "       [0.        , 0.21481481],\n",
       "       [0.42857143, 0.35555556],\n",
       "       [0.54761905, 0.27407407],\n",
       "       [0.42857143, 0.33333333],\n",
       "       [0.14285714, 0.12592593],\n",
       "       [0.45238095, 0.45925926],\n",
       "       [0.38095238, 0.42222222],\n",
       "       [0.45238095, 0.41481481],\n",
       "       [0.57142857, 0.48148148],\n",
       "       [0.26190476, 0.23703704],\n",
       "       [0.83333333, 0.94814815],\n",
       "       [0.04761905, 0.05925926],\n",
       "       [0.52380952, 0.31111111],\n",
       "       [0.11904762, 0.35555556],\n",
       "       [0.07142857, 0.39259259],\n",
       "       [0.64285714, 0.85925926],\n",
       "       [0.4047619 , 0.42222222],\n",
       "       [0.28571429, 0.53333333],\n",
       "       [0.54761905, 0.11111111],\n",
       "       [0.45238095, 0.43703704],\n",
       "       [0.5       , 0.44444444],\n",
       "       [0.97619048, 0.94814815],\n",
       "       [0.35714286, 0.11851852],\n",
       "       [0.57142857, 0.65925926],\n",
       "       [0.4047619 , 0.28148148],\n",
       "       [0.28571429, 0.        ],\n",
       "       [0.54761905, 0.35555556],\n",
       "       [0.80952381, 0.91111111],\n",
       "       [0.95238095, 0.63703704],\n",
       "       [0.07142857, 0.54074074],\n",
       "       [0.64285714, 0.12592593],\n",
       "       [0.42857143, 0.25925926],\n",
       "       [0.95238095, 0.17037037],\n",
       "       [0.45238095, 0.2962963 ],\n",
       "       [1.        , 0.22962963],\n",
       "       [0.30952381, 0.41481481],\n",
       "       [0.5       , 0.41481481],\n",
       "       [0.5       , 0.45925926],\n",
       "       [0.30952381, 0.43703704],\n",
       "       [0.47619048, 0.72592593],\n",
       "       [0.4047619 , 0.44444444],\n",
       "       [0.19047619, 0.42222222],\n",
       "       [1.        , 0.64444444],\n",
       "       [0.57142857, 0.55555556],\n",
       "       [0.47619048, 0.32592593],\n",
       "       [0.38095238, 0.07407407],\n",
       "       [0.5       , 0.32592593],\n",
       "       [0.11904762, 0.24444444],\n",
       "       [0.4047619 , 0.07407407],\n",
       "       [0.69047619, 0.26666667],\n",
       "       [0.71428571, 0.88148148],\n",
       "       [0.16666667, 0.48148148],\n",
       "       [0.4047619 , 0.42222222],\n",
       "       [0.4047619 , 0.05925926],\n",
       "       [0.69047619, 0.95555556],\n",
       "       [0.64285714, 0.47407407],\n",
       "       [0.02380952, 0.08148148],\n",
       "       [0.5       , 0.79259259],\n",
       "       [0.23809524, 0.32592593],\n",
       "       [0.4047619 , 0.37037037],\n",
       "       [0.88095238, 0.81481481],\n",
       "       [0.16666667, 0.47407407],\n",
       "       [0.42857143, 0.13333333],\n",
       "       [0.54761905, 0.42222222],\n",
       "       [0.28571429, 0.01481481],\n",
       "       [0.47619048, 0.2962963 ],\n",
       "       [0.76190476, 0.54074074],\n",
       "       [0.57142857, 0.44444444],\n",
       "       [0.42857143, 0.27407407],\n",
       "       [0.71428571, 0.13333333],\n",
       "       [0.02380952, 0.45185185],\n",
       "       [0.97619048, 0.5037037 ],\n",
       "       [0.45238095, 0.31111111],\n",
       "       [0.5       , 0.88148148],\n",
       "       [0.45238095, 0.42222222],\n",
       "       [0.80952381, 0.04444444],\n",
       "       [0.21428571, 0.55555556],\n",
       "       [0.69047619, 0.68148148],\n",
       "       [0.07142857, 0.42222222],\n",
       "       [0.71428571, 0.43703704],\n",
       "       [0.26190476, 0.48148148],\n",
       "       [0.04761905, 0.43703704],\n",
       "       [0.69047619, 0.14074074],\n",
       "       [0.69047619, 0.66666667],\n",
       "       [0.54761905, 0.48148148],\n",
       "       [0.47619048, 0.41481481],\n",
       "       [0.11904762, 0.03703704],\n",
       "       [0.69047619, 0.25925926],\n",
       "       [0.0952381 , 0.2962963 ],\n",
       "       [0.4047619 , 0.21481481],\n",
       "       [0.21428571, 0.51111111],\n",
       "       [0.42857143, 0.95555556],\n",
       "       [0.16666667, 0.55555556],\n",
       "       [0.21428571, 0.9037037 ],\n",
       "       [0.35714286, 0.20740741],\n",
       "       [0.26190476, 0.98518519],\n",
       "       [0.4047619 , 0.47407407],\n",
       "       [0.21428571, 0.6       ],\n",
       "       [0.57142857, 0.36296296],\n",
       "       [0.42857143, 0.44444444],\n",
       "       [0.19047619, 0.14814815],\n",
       "       [0.21428571, 0.31851852],\n",
       "       [0.5952381 , 0.87407407],\n",
       "       [0.95238095, 0.95555556],\n",
       "       [0.76190476, 0.03703704],\n",
       "       [1.        , 0.5037037 ],\n",
       "       [0.54761905, 0.42222222],\n",
       "       [0.0952381 , 0.08888889],\n",
       "       [0.95238095, 0.59259259],\n",
       "       [0.35714286, 0.26666667],\n",
       "       [0.45238095, 0.47407407],\n",
       "       [0.42857143, 0.28888889],\n",
       "       [0.73809524, 0.37037037],\n",
       "       [0.66666667, 0.19259259],\n",
       "       [0.4047619 , 0.08888889],\n",
       "       [0.57142857, 0.37037037],\n",
       "       [0.21428571, 0.31111111],\n",
       "       [0.54761905, 0.27407407],\n",
       "       [0.28571429, 0.54814815],\n",
       "       [0.45238095, 0.95555556],\n",
       "       [0.85714286, 0.65925926],\n",
       "       [0.23809524, 0.47407407],\n",
       "       [0.4047619 , 0.05185185],\n",
       "       [0.54761905, 0.42222222],\n",
       "       [0.16666667, 0.53333333],\n",
       "       [0.92857143, 0.43703704],\n",
       "       [0.19047619, 0.52592593],\n",
       "       [0.64285714, 0.22222222],\n",
       "       [0.92857143, 0.79259259],\n",
       "       [0.11904762, 0.4962963 ],\n",
       "       [0.02380952, 0.40740741],\n",
       "       [0.4047619 , 0.03703704],\n",
       "       [0.11904762, 0.37777778],\n",
       "       [0.97619048, 0.2       ],\n",
       "       [0.28571429, 0.88888889],\n",
       "       [0.69047619, 0.20740741],\n",
       "       [0.21428571, 0.11851852],\n",
       "       [0.73809524, 0.43703704],\n",
       "       [0.88095238, 0.17777778],\n",
       "       [0.47619048, 0.25925926],\n",
       "       [0.47619048, 0.26666667],\n",
       "       [1.        , 0.14074074],\n",
       "       [0.47619048, 0.37037037],\n",
       "       [0.04761905, 0.15555556],\n",
       "       [0.92857143, 0.13333333],\n",
       "       [0.80952381, 1.        ],\n",
       "       [0.11904762, 0.0962963 ],\n",
       "       [0.33333333, 0.88888889],\n",
       "       [0.80952381, 0.55555556],\n",
       "       [0.33333333, 0.62962963],\n",
       "       [0.73809524, 0.54814815],\n",
       "       [0.97619048, 0.54074074],\n",
       "       [0.45238095, 0.9037037 ],\n",
       "       [0.73809524, 0.15555556],\n",
       "       [0.28571429, 0.25185185],\n",
       "       [0.4047619 , 0.17777778],\n",
       "       [0.4047619 , 0.33333333],\n",
       "       [0.45238095, 0.13333333],\n",
       "       [0.30952381, 0.        ],\n",
       "       [0.52380952, 0.41481481],\n",
       "       [1.        , 0.68888889],\n",
       "       [0.45238095, 0.46666667],\n",
       "       [0.35714286, 0.0962963 ],\n",
       "       [0.5       , 0.2       ],\n",
       "       [0.83333333, 0.65925926],\n",
       "       [0.45238095, 0.28148148],\n",
       "       [0.57142857, 0.28888889],\n",
       "       [0.66666667, 0.6       ],\n",
       "       [0.14285714, 0.2962963 ],\n",
       "       [0.66666667, 0.4962963 ],\n",
       "       [0.26190476, 0.34074074],\n",
       "       [0.14285714, 0.05925926],\n",
       "       [0.57142857, 0.48148148],\n",
       "       [0.26190476, 0.5037037 ],\n",
       "       [0.        , 0.39259259],\n",
       "       [0.57142857, 0.28888889],\n",
       "       [0.14285714, 0.2962963 ],\n",
       "       [0.54761905, 0.26666667],\n",
       "       [0.95238095, 0.05925926],\n",
       "       [0.57142857, 0.37037037],\n",
       "       [0.33333333, 0.75555556],\n",
       "       [0.52380952, 0.31111111],\n",
       "       [0.78571429, 0.88148148],\n",
       "       [0.47619048, 0.71851852],\n",
       "       [0.54761905, 0.47407407],\n",
       "       [0.57142857, 0.40740741],\n",
       "       [0.0952381 , 0.02222222],\n",
       "       [0.38095238, 0.74074074],\n",
       "       [0.42857143, 0.81481481],\n",
       "       [0.52380952, 0.94074074],\n",
       "       [0.45238095, 0.97037037],\n",
       "       [0.61904762, 0.17777778],\n",
       "       [0.71428571, 0.93333333],\n",
       "       [0.52380952, 0.32592593],\n",
       "       [0.04761905, 0.4962963 ],\n",
       "       [0.69047619, 0.07407407],\n",
       "       [0.73809524, 0.17777778],\n",
       "       [0.30952381, 0.76296296],\n",
       "       [0.4047619 , 0.23703704],\n",
       "       [0.71428571, 0.11111111],\n",
       "       [0.5952381 , 0.84444444],\n",
       "       [0.35714286, 0.33333333],\n",
       "       [0.30952381, 0.14074074],\n",
       "       [0.45238095, 0.48148148],\n",
       "       [0.83333333, 0.4962963 ],\n",
       "       [0.71428571, 0.6       ],\n",
       "       [0.66666667, 0.12592593],\n",
       "       [0.45238095, 0.57777778],\n",
       "       [0.33333333, 0.75555556],\n",
       "       [0.69047619, 0.03703704],\n",
       "       [0.54761905, 0.42222222],\n",
       "       [0.        , 0.4962963 ],\n",
       "       [0.47619048, 0.34074074],\n",
       "       [0.16666667, 0.05185185],\n",
       "       [0.71428571, 0.77037037],\n",
       "       [0.14285714, 0.51111111],\n",
       "       [0.88095238, 0.85185185],\n",
       "       [0.21428571, 0.54074074],\n",
       "       [0.26190476, 0.5037037 ],\n",
       "       [0.30952381, 0.02222222],\n",
       "       [0.71428571, 0.55555556],\n",
       "       [0.07142857, 0.00740741],\n",
       "       [0.57142857, 0.28148148],\n",
       "       [0.47619048, 0.41481481],\n",
       "       [0.52380952, 0.34074074],\n",
       "       [1.        , 0.2       ],\n",
       "       [0.14285714, 0.31851852],\n",
       "       [0.33333333, 0.02222222],\n",
       "       [0.30952381, 0.39259259],\n",
       "       [0.71428571, 0.1037037 ],\n",
       "       [0.66666667, 0.43703704],\n",
       "       [0.97619048, 0.85185185],\n",
       "       [0.97619048, 0.45185185],\n",
       "       [0.        , 0.52592593],\n",
       "       [0.66666667, 0.32592593],\n",
       "       [0.71428571, 0.91111111],\n",
       "       [0.52380952, 0.44444444],\n",
       "       [0.4047619 , 0.25925926],\n",
       "       [0.4047619 , 0.97777778],\n",
       "       [0.78571429, 0.97037037],\n",
       "       [0.28571429, 0.48148148],\n",
       "       [0.95238095, 0.23703704],\n",
       "       [0.19047619, 0.27407407],\n",
       "       [0.66666667, 0.75555556],\n",
       "       [0.76190476, 0.21481481],\n",
       "       [0.23809524, 0.54814815],\n",
       "       [0.02380952, 0.51851852],\n",
       "       [0.30952381, 0.45185185],\n",
       "       [0.85714286, 0.08148148],\n",
       "       [0.66666667, 0.54074074],\n",
       "       [0.5       , 0.6       ],\n",
       "       [0.83333333, 0.42222222],\n",
       "       [0.85714286, 0.40740741],\n",
       "       [0.71428571, 0.19259259],\n",
       "       [0.23809524, 0.51851852],\n",
       "       [0.73809524, 0.52592593],\n",
       "       [0.4047619 , 0.32592593],\n",
       "       [0.52380952, 0.44444444],\n",
       "       [0.66666667, 0.47407407],\n",
       "       [0.26190476, 0.20740741],\n",
       "       [0.4047619 , 0.44444444]])"
      ]
     },
     "execution_count": 15,
     "metadata": {},
     "output_type": "execute_result"
    }
   ],
   "source": [
    "train_x_scaled=scaler.fit_transform(train_x)\n",
    "train_x_scaled\n"
   ]
  },
  {
   "cell_type": "code",
   "execution_count": 16,
   "metadata": {},
   "outputs": [
    {
     "data": {
      "text/html": [
       "<div>\n",
       "<style scoped>\n",
       "    .dataframe tbody tr th:only-of-type {\n",
       "        vertical-align: middle;\n",
       "    }\n",
       "\n",
       "    .dataframe tbody tr th {\n",
       "        vertical-align: top;\n",
       "    }\n",
       "\n",
       "    .dataframe thead th {\n",
       "        text-align: right;\n",
       "    }\n",
       "</style>\n",
       "<table border=\"1\" class=\"dataframe\">\n",
       "  <thead>\n",
       "    <tr style=\"text-align: right;\">\n",
       "      <th></th>\n",
       "      <th>Age</th>\n",
       "      <th>EstimatedSalary</th>\n",
       "    </tr>\n",
       "  </thead>\n",
       "  <tbody>\n",
       "    <tr>\n",
       "      <th>0</th>\n",
       "      <td>0.404762</td>\n",
       "      <td>0.414815</td>\n",
       "    </tr>\n",
       "    <tr>\n",
       "      <th>1</th>\n",
       "      <td>0.476190</td>\n",
       "      <td>0.481481</td>\n",
       "    </tr>\n",
       "    <tr>\n",
       "      <th>2</th>\n",
       "      <td>0.452381</td>\n",
       "      <td>0.348148</td>\n",
       "    </tr>\n",
       "    <tr>\n",
       "      <th>3</th>\n",
       "      <td>0.714286</td>\n",
       "      <td>0.148148</td>\n",
       "    </tr>\n",
       "    <tr>\n",
       "      <th>4</th>\n",
       "      <td>0.238095</td>\n",
       "      <td>0.296296</td>\n",
       "    </tr>\n",
       "    <tr>\n",
       "      <th>...</th>\n",
       "      <td>...</td>\n",
       "      <td>...</td>\n",
       "    </tr>\n",
       "    <tr>\n",
       "      <th>295</th>\n",
       "      <td>0.404762</td>\n",
       "      <td>0.325926</td>\n",
       "    </tr>\n",
       "    <tr>\n",
       "      <th>296</th>\n",
       "      <td>0.523810</td>\n",
       "      <td>0.444444</td>\n",
       "    </tr>\n",
       "    <tr>\n",
       "      <th>297</th>\n",
       "      <td>0.666667</td>\n",
       "      <td>0.474074</td>\n",
       "    </tr>\n",
       "    <tr>\n",
       "      <th>298</th>\n",
       "      <td>0.261905</td>\n",
       "      <td>0.207407</td>\n",
       "    </tr>\n",
       "    <tr>\n",
       "      <th>299</th>\n",
       "      <td>0.404762</td>\n",
       "      <td>0.444444</td>\n",
       "    </tr>\n",
       "  </tbody>\n",
       "</table>\n",
       "<p>300 rows × 2 columns</p>\n",
       "</div>"
      ],
      "text/plain": [
       "          Age  EstimatedSalary\n",
       "0    0.404762         0.414815\n",
       "1    0.476190         0.481481\n",
       "2    0.452381         0.348148\n",
       "3    0.714286         0.148148\n",
       "4    0.238095         0.296296\n",
       "..        ...              ...\n",
       "295  0.404762         0.325926\n",
       "296  0.523810         0.444444\n",
       "297  0.666667         0.474074\n",
       "298  0.261905         0.207407\n",
       "299  0.404762         0.444444\n",
       "\n",
       "[300 rows x 2 columns]"
      ]
     },
     "execution_count": 16,
     "metadata": {},
     "output_type": "execute_result"
    }
   ],
   "source": [
    "train_x_scaled=pd.DataFrame(train_x_scaled,columns=cols)\n",
    "train_x_scaled\n"
   ]
  },
  {
   "cell_type": "code",
   "execution_count": 17,
   "metadata": {},
   "outputs": [],
   "source": [
    "from sklearn.linear_model import LogisticRegression as LogReg"
   ]
  },
  {
   "cell_type": "code",
   "execution_count": 18,
   "metadata": {},
   "outputs": [],
   "source": [
    "logreg=LogReg()"
   ]
  },
  {
   "cell_type": "code",
   "execution_count": 19,
   "metadata": {},
   "outputs": [
    {
     "data": {
      "text/html": [
       "<style>#sk-container-id-2 {color: black;}#sk-container-id-2 pre{padding: 0;}#sk-container-id-2 div.sk-toggleable {background-color: white;}#sk-container-id-2 label.sk-toggleable__label {cursor: pointer;display: block;width: 100%;margin-bottom: 0;padding: 0.3em;box-sizing: border-box;text-align: center;}#sk-container-id-2 label.sk-toggleable__label-arrow:before {content: \"▸\";float: left;margin-right: 0.25em;color: #696969;}#sk-container-id-2 label.sk-toggleable__label-arrow:hover:before {color: black;}#sk-container-id-2 div.sk-estimator:hover label.sk-toggleable__label-arrow:before {color: black;}#sk-container-id-2 div.sk-toggleable__content {max-height: 0;max-width: 0;overflow: hidden;text-align: left;background-color: #f0f8ff;}#sk-container-id-2 div.sk-toggleable__content pre {margin: 0.2em;color: black;border-radius: 0.25em;background-color: #f0f8ff;}#sk-container-id-2 input.sk-toggleable__control:checked~div.sk-toggleable__content {max-height: 200px;max-width: 100%;overflow: auto;}#sk-container-id-2 input.sk-toggleable__control:checked~label.sk-toggleable__label-arrow:before {content: \"▾\";}#sk-container-id-2 div.sk-estimator input.sk-toggleable__control:checked~label.sk-toggleable__label {background-color: #d4ebff;}#sk-container-id-2 div.sk-label input.sk-toggleable__control:checked~label.sk-toggleable__label {background-color: #d4ebff;}#sk-container-id-2 input.sk-hidden--visually {border: 0;clip: rect(1px 1px 1px 1px);clip: rect(1px, 1px, 1px, 1px);height: 1px;margin: -1px;overflow: hidden;padding: 0;position: absolute;width: 1px;}#sk-container-id-2 div.sk-estimator {font-family: monospace;background-color: #f0f8ff;border: 1px dotted black;border-radius: 0.25em;box-sizing: border-box;margin-bottom: 0.5em;}#sk-container-id-2 div.sk-estimator:hover {background-color: #d4ebff;}#sk-container-id-2 div.sk-parallel-item::after {content: \"\";width: 100%;border-bottom: 1px solid gray;flex-grow: 1;}#sk-container-id-2 div.sk-label:hover label.sk-toggleable__label {background-color: #d4ebff;}#sk-container-id-2 div.sk-serial::before {content: \"\";position: absolute;border-left: 1px solid gray;box-sizing: border-box;top: 0;bottom: 0;left: 50%;z-index: 0;}#sk-container-id-2 div.sk-serial {display: flex;flex-direction: column;align-items: center;background-color: white;padding-right: 0.2em;padding-left: 0.2em;position: relative;}#sk-container-id-2 div.sk-item {position: relative;z-index: 1;}#sk-container-id-2 div.sk-parallel {display: flex;align-items: stretch;justify-content: center;background-color: white;position: relative;}#sk-container-id-2 div.sk-item::before, #sk-container-id-2 div.sk-parallel-item::before {content: \"\";position: absolute;border-left: 1px solid gray;box-sizing: border-box;top: 0;bottom: 0;left: 50%;z-index: -1;}#sk-container-id-2 div.sk-parallel-item {display: flex;flex-direction: column;z-index: 1;position: relative;background-color: white;}#sk-container-id-2 div.sk-parallel-item:first-child::after {align-self: flex-end;width: 50%;}#sk-container-id-2 div.sk-parallel-item:last-child::after {align-self: flex-start;width: 50%;}#sk-container-id-2 div.sk-parallel-item:only-child::after {width: 0;}#sk-container-id-2 div.sk-dashed-wrapped {border: 1px dashed gray;margin: 0 0.4em 0.5em 0.4em;box-sizing: border-box;padding-bottom: 0.4em;background-color: white;}#sk-container-id-2 div.sk-label label {font-family: monospace;font-weight: bold;display: inline-block;line-height: 1.2em;}#sk-container-id-2 div.sk-label-container {text-align: center;}#sk-container-id-2 div.sk-container {/* jupyter's `normalize.less` sets `[hidden] { display: none; }` but bootstrap.min.css set `[hidden] { display: none !important; }` so we also need the `!important` here to be able to override the default hidden behavior on the sphinx rendered scikit-learn.org. See: https://github.com/scikit-learn/scikit-learn/issues/21755 */display: inline-block !important;position: relative;}#sk-container-id-2 div.sk-text-repr-fallback {display: none;}</style><div id=\"sk-container-id-2\" class=\"sk-top-container\"><div class=\"sk-text-repr-fallback\"><pre>LogisticRegression()</pre><b>In a Jupyter environment, please rerun this cell to show the HTML representation or trust the notebook. <br />On GitHub, the HTML representation is unable to render, please try loading this page with nbviewer.org.</b></div><div class=\"sk-container\" hidden><div class=\"sk-item\"><div class=\"sk-estimator sk-toggleable\"><input class=\"sk-toggleable__control sk-hidden--visually\" id=\"sk-estimator-id-2\" type=\"checkbox\" checked><label for=\"sk-estimator-id-2\" class=\"sk-toggleable__label sk-toggleable__label-arrow\">LogisticRegression</label><div class=\"sk-toggleable__content\"><pre>LogisticRegression()</pre></div></div></div></div></div>"
      ],
      "text/plain": [
       "LogisticRegression()"
      ]
     },
     "execution_count": 19,
     "metadata": {},
     "output_type": "execute_result"
    }
   ],
   "source": [
    "logreg.fit(train_x,train_y)"
   ]
  },
  {
   "cell_type": "code",
   "execution_count": 20,
   "metadata": {},
   "outputs": [],
   "source": [
    "train_predict=logreg.predict(train_x)\n",
    "test_predict=logreg.predict(test_x)\n"
   ]
  },
  {
   "cell_type": "code",
   "execution_count": 21,
   "metadata": {},
   "outputs": [
    {
     "data": {
      "text/plain": [
       "array([0, 0, 0, 0, 0, 0, 0, 0, 0, 0, 0, 0, 0, 0, 0, 0, 0, 0, 0, 0, 0, 0,\n",
       "       0, 0, 0, 0, 0, 0, 0, 0, 0, 0, 0, 0, 0, 0, 0, 0, 0, 0, 0, 0, 0, 0,\n",
       "       0, 0, 0, 0, 0, 0, 0, 0, 0, 0, 0, 0, 0, 0, 0, 0, 0, 0, 0, 0, 0, 0,\n",
       "       0, 0, 0, 0, 0, 0, 0, 0, 0, 0, 0, 0, 0, 0, 0, 0, 0, 0, 0, 0, 0, 0,\n",
       "       0, 0, 0, 0, 0, 0, 0, 0, 0, 0, 0, 0, 0, 0, 0, 0, 0, 0, 0, 0, 0, 0,\n",
       "       0, 0, 0, 0, 0, 0, 0, 0, 0, 0, 0, 0, 0, 0, 0, 0, 0, 0, 0, 0, 0, 0,\n",
       "       0, 0, 0, 0, 0, 0, 0, 0, 0, 0, 0, 0, 0, 0, 0, 0, 0, 0, 0, 0, 0, 0,\n",
       "       0, 0, 0, 0, 0, 0, 0, 0, 0, 0, 0, 0, 0, 0, 0, 0, 0, 0, 0, 0, 0, 0,\n",
       "       0, 0, 0, 0, 0, 0, 0, 0, 0, 0, 0, 0, 0, 0, 0, 0, 0, 0, 0, 0, 0, 0,\n",
       "       0, 0, 0, 0, 0, 0, 0, 0, 0, 0, 0, 0, 0, 0, 0, 0, 0, 0, 0, 0, 0, 0,\n",
       "       0, 0, 0, 0, 0, 0, 0, 0, 0, 0, 0, 0, 0, 0, 0, 0, 0, 0, 0, 0, 0, 0,\n",
       "       0, 0, 0, 0, 0, 0, 0, 0, 0, 0, 0, 0, 0, 0, 0, 0, 0, 0, 0, 0, 0, 0,\n",
       "       0, 0, 0, 0, 0, 0, 0, 0, 0, 0, 0, 0, 0, 0, 0, 0, 0, 0, 0, 0, 0, 0,\n",
       "       0, 0, 0, 0, 0, 0, 0, 0, 0, 0, 0, 0, 0, 0], dtype=int64)"
      ]
     },
     "execution_count": 21,
     "metadata": {},
     "output_type": "execute_result"
    }
   ],
   "source": [
    "train_predict\n"
   ]
  },
  {
   "cell_type": "code",
   "execution_count": 22,
   "metadata": {},
   "outputs": [
    {
     "data": {
      "text/plain": [
       "array([0, 0, 0, 0, 0, 0, 0, 0, 0, 0, 0, 0, 0, 0, 0, 0, 0, 0, 0, 0, 0, 0,\n",
       "       0, 0, 0, 0, 0, 0, 0, 0, 0, 0, 0, 0, 0, 0, 0, 0, 0, 0, 0, 0, 0, 0,\n",
       "       0, 0, 0, 0, 0, 0, 0, 0, 0, 0, 0, 0, 0, 0, 0, 0, 0, 0, 0, 0, 0, 0,\n",
       "       0, 0, 0, 0, 0, 0, 0, 0, 0, 0, 0, 0, 0, 0, 0, 0, 0, 0, 0, 0, 0, 0,\n",
       "       0, 0, 0, 0, 0, 0, 0, 0, 0, 0, 0, 0], dtype=int64)"
      ]
     },
     "execution_count": 22,
     "metadata": {},
     "output_type": "execute_result"
    }
   ],
   "source": [
    "test_predict"
   ]
  },
  {
   "cell_type": "code",
   "execution_count": 23,
   "metadata": {},
   "outputs": [],
   "source": [
    "from sklearn.metrics import f1_score, confusion_matrix, roc_auc_score, roc_curve"
   ]
  },
  {
   "cell_type": "code",
   "execution_count": 24,
   "metadata": {},
   "outputs": [
    {
     "data": {
      "text/plain": [
       "0.0"
      ]
     },
     "execution_count": 24,
     "metadata": {},
     "output_type": "execute_result"
    }
   ],
   "source": [
    "f1_score(test_predict,test_y)"
   ]
  },
  {
   "cell_type": "code",
   "execution_count": 25,
   "metadata": {},
   "outputs": [],
   "source": [
    "conf1=confusion_matrix(train_y,train_predict) "
   ]
  },
  {
   "cell_type": "code",
   "execution_count": 26,
   "metadata": {},
   "outputs": [
    {
     "data": {
      "text/plain": [
       "array([[192,   0],\n",
       "       [108,   0]], dtype=int64)"
      ]
     },
     "execution_count": 26,
     "metadata": {},
     "output_type": "execute_result"
    }
   ],
   "source": [
    "conf1\n"
   ]
  },
  {
   "cell_type": "code",
   "execution_count": 27,
   "metadata": {},
   "outputs": [],
   "source": [
    "conf=confusion_matrix(test_y,test_predict)"
   ]
  },
  {
   "cell_type": "code",
   "execution_count": 28,
   "metadata": {},
   "outputs": [
    {
     "data": {
      "text/plain": [
       "array([[65,  0],\n",
       "       [35,  0]], dtype=int64)"
      ]
     },
     "execution_count": 28,
     "metadata": {},
     "output_type": "execute_result"
    }
   ],
   "source": [
    "conf\n"
   ]
  },
  {
   "cell_type": "code",
   "execution_count": 29,
   "metadata": {},
   "outputs": [],
   "source": [
    "true_negative=conf[0][0]\n",
    "false_negative=conf[1][0]\n",
    "false_positive=conf[0][1]\n",
    "true_positive=conf[1][1]\n"
   ]
  },
  {
   "cell_type": "code",
   "execution_count": 30,
   "metadata": {},
   "outputs": [
    {
     "name": "stderr",
     "output_type": "stream",
     "text": [
      "<ipython-input-30-3070f11282e1>:4: RuntimeWarning: invalid value encountered in longlong_scalars\n",
      "  Precision=true_positive/(true_positive+false_positive)\n"
     ]
    },
    {
     "data": {
      "text/plain": [
       "nan"
      ]
     },
     "execution_count": 30,
     "metadata": {},
     "output_type": "execute_result"
    }
   ],
   "source": [
    "Accuracy=(true_positive + true_negative) / (true_positive + false_positive + true_negative +false_negative)\n",
    "Accuracy\n",
    "#precision\n",
    "Precision=true_positive/(true_positive+false_positive)\n",
    "Precision\n",
    "#Recall\n",
    "Recall=true_positive/(true_positive+false_negative)\n",
    "Recall\n",
    "#F1 Score\n",
    "F1_Score=2*(Recall * Precision)/(Recall + Precision)\n",
    "F1_Score"
   ]
  },
  {
   "cell_type": "code",
   "execution_count": 31,
   "metadata": {},
   "outputs": [
    {
     "data": {
      "text/plain": [
       "0.65"
      ]
     },
     "execution_count": 31,
     "metadata": {},
     "output_type": "execute_result"
    }
   ],
   "source": [
    "Accuracy\n"
   ]
  },
  {
   "cell_type": "code",
   "execution_count": 32,
   "metadata": {},
   "outputs": [
    {
     "data": {
      "text/plain": [
       "nan"
      ]
     },
     "execution_count": 32,
     "metadata": {},
     "output_type": "execute_result"
    }
   ],
   "source": [
    "Precision"
   ]
  },
  {
   "cell_type": "code",
   "execution_count": 33,
   "metadata": {},
   "outputs": [
    {
     "data": {
      "text/plain": [
       "0.0"
      ]
     },
     "execution_count": 33,
     "metadata": {},
     "output_type": "execute_result"
    }
   ],
   "source": [
    "Recall"
   ]
  },
  {
   "cell_type": "code",
   "execution_count": 34,
   "metadata": {},
   "outputs": [
    {
     "data": {
      "text/plain": [
       "nan"
      ]
     },
     "execution_count": 34,
     "metadata": {},
     "output_type": "execute_result"
    }
   ],
   "source": [
    "F1_Score"
   ]
  },
  {
   "cell_type": "code",
   "execution_count": 35,
   "metadata": {},
   "outputs": [],
   "source": [
    "auc_score=roc_auc_score(test_y,test_predict)\n"
   ]
  },
  {
   "cell_type": "code",
   "execution_count": 36,
   "metadata": {},
   "outputs": [],
   "source": [
    "fpr,tpr,thresholds=roc_curve(test_y,test_predict)"
   ]
  },
  {
   "cell_type": "code",
   "execution_count": 37,
   "metadata": {},
   "outputs": [
    {
     "data": {
      "text/plain": [
       "array([inf,  0.])"
      ]
     },
     "execution_count": 37,
     "metadata": {},
     "output_type": "execute_result"
    }
   ],
   "source": [
    "thresholds"
   ]
  },
  {
   "cell_type": "code",
   "execution_count": 38,
   "metadata": {},
   "outputs": [
    {
     "data": {
      "image/png": "[encoded data removed]",
      "text/plain": [
       "<Figure size 432x288 with 1 Axes>"
      ]
     },
     "metadata": {
      "needs_background": "light"
     },
     "output_type": "display_data"
    }
   ],
   "source": [
    "plt.plot(fpr,tpr, color='orange',label='ROC')\n",
    "plt.plot([0,1],[0,1],color='darkblue',linestyle='--',label='ROC curve (area = %0.2f)' % auc_score)\n",
    "plt.xlabel('False positive Rate')\n",
    "plt.ylabel('True positive Rate')\n",
    "plt.title('Receiver Operating Characteristics (ROC) Curve')\n",
    "plt.legend()\n",
    "plt.show()"
   ]
  },
  {
   "cell_type": "code",
   "execution_count": 46,
   "metadata": {},
   "outputs": [],
   "source": [
    "from sklearn.metrics import f1_score, confusion_matrix, roc_auc_score, roc_curve, classification_report, accuracy_score\n",
    "from mlxtend.plotting import plot_confusion_matrix\n",
    "\n",
    "conf1 = confusion_matrix(train_y, train_predict)\n",
    "accuracy = accuracy_score(test_y, test_predict)\n",
    "conf_matrix = confusion_matrix(test_y, test_predict)\n",
    "\n",
    "f1_train = f1_score(train_y, train_predict)\n",
    "f1_test = f1_score(test_y, test_predict)\n",
    "\n",
    "\n",
    "\n",
    "\n"
   ]
  },
  {
   "cell_type": "code",
   "execution_count": 47,
   "metadata": {},
   "outputs": [
    {
     "name": "stdout",
     "output_type": "stream",
     "text": [
      "Confusion Matrix:\n",
      "[[65  0]\n",
      " [35  0]]\n",
      "\n",
      "Accuracy: 0.65\n",
      "\n",
      "Classification Report:\n",
      "              precision    recall  f1-score   support\n",
      "\n",
      "           0       0.65      1.00      0.79        65\n",
      "           1       0.00      0.00      0.00        35\n",
      "\n",
      "    accuracy                           0.65       100\n",
      "   macro avg       0.33      0.50      0.39       100\n",
      "weighted avg       0.42      0.65      0.51       100\n",
      "\n"
     ]
    },
    {
     "name": "stderr",
     "output_type": "stream",
     "text": [
      "C:\\Users\\Yash\\AppData\\Roaming\\Python\\Python38\\site-packages\\sklearn\\metrics\\_classification.py:1471: UndefinedMetricWarning: Precision and F-score are ill-defined and being set to 0.0 in labels with no predicted samples. Use `zero_division` parameter to control this behavior.\n",
      "  _warn_prf(average, modifier, msg_start, len(result))\n",
      "C:\\Users\\Yash\\AppData\\Roaming\\Python\\Python38\\site-packages\\sklearn\\metrics\\_classification.py:1471: UndefinedMetricWarning: Precision and F-score are ill-defined and being set to 0.0 in labels with no predicted samples. Use `zero_division` parameter to control this behavior.\n",
      "  _warn_prf(average, modifier, msg_start, len(result))\n",
      "C:\\Users\\Yash\\AppData\\Roaming\\Python\\Python38\\site-packages\\sklearn\\metrics\\_classification.py:1471: UndefinedMetricWarning: Precision and F-score are ill-defined and being set to 0.0 in labels with no predicted samples. Use `zero_division` parameter to control this behavior.\n",
      "  _warn_prf(average, modifier, msg_start, len(result))\n"
     ]
    }
   ],
   "source": [
    "print(\"Confusion Matrix:\")\n",
    "print(conf_matrix)\n",
    "print(\"\\nAccuracy:\", accuracy)\n",
    "print(\"\\nClassification Report:\")\n",
    "print(classification_report(test_y, test_predict))\n"
   ]
  },
  {
   "cell_type": "code",
   "execution_count": 48,
   "metadata": {},
   "outputs": [
    {
     "data": {
      "image/png": "[encoded data removed]",
      "text/plain": [
       "<Figure size 432x288 with 1 Axes>"
      ]
     },
     "metadata": {
      "needs_background": "light"
     },
     "output_type": "display_data"
    }
   ],
   "source": [
    "fig, ax = plot_confusion_matrix(conf_mat=conf)\n",
    "plt.show()"
   ]
  },
  {
   "cell_type": "code",
   "execution_count": null,
   "metadata": {},
   "outputs": [],
   "source": []
  }
 ],
 "metadata": {
  "kernelspec": {
   "display_name": "Python 3 (ipykernel)",
   "language": "python",
   "name": "python3"
  },
  "language_info": {
   "codemirror_mode": {
    "name": "ipython",
    "version": 3
   },
   "file_extension": ".py",
   "mimetype": "text/x-python",
   "name": "python",
   "nbconvert_exporter": "python",
   "pygments_lexer": "ipython3",
   "version": "3.11.7"
  }
 },
 "nbformat": 4,
 "nbformat_minor": 4
}
